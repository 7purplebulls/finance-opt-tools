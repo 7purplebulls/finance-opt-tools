{
 "cells": [
  {
   "cell_type": "markdown",
   "metadata": {},
   "source": [
    "JuPOT - Tutorial\n",
    "================"
   ]
  },
  {
   "cell_type": "code",
   "execution_count": 10,
   "metadata": {
    "collapsed": false,
    "scrolled": true
   },
   "outputs": [
    {
     "data": {
      "text/plain": [
       "WGd    0.8750696218393272 \n",
       "NUU    0.0909824764542102 \n",
       "XkG    0.0421296129858959 \n",
       "BVj    0.3566575879209919 \n",
       "pRr    0.539297484964939 \n",
       "Jzy    0.5215886520600004 \n",
       "kiR    0.6376321186088576 \n",
       "5ML    0.2587373064380125 \n",
       "4Wu    0.6969136663434587 \n",
       "bTp    0.4212944263872922 \n"
      ]
     },
     "execution_count": 10,
     "metadata": {},
     "output_type": "execute_result"
    }
   ],
   "source": [
    "push!(LOAD_PATH, \"$(homedir())/desktop/financial-opt-tools/src\")\n",
    "\n",
    "using JuPOT\n",
    "\n",
    "# Generate synthetic data sets for Demonstration\n",
    "############\n",
    "# Assets\n",
    "############\n",
    "n = 10 # No. Of Assets\n",
    "returns = rand(n)\n",
    "covarariance = let\n",
    "    S = randn(n, n)\n",
    "    S'S + eye(n)\n",
    "end\n",
    "names = [randstring(3) for i in 1:n] # List of asset names\n",
    "\n",
    "# Assets data structure containing, names, expected returns, covarariance\n",
    "assets = AssetsCollection(names, returns, covarariance)"
   ]
  },
  {
   "cell_type": "markdown",
   "metadata": {},
   "source": [
    "## Simple MVO\n",
    "\n",
    "\\begin{align}\n",
    "&\\text{minimize} && w^\\top\\Sigma w \\\\\n",
    "&\\text{subject to} && \\mu^\\top w\\geq r_{\\min} \\\\\n",
    "&       && \\mathbf{1}^\\top w = 1 \\\\\n",
    "&       && w \\succeq 0 \\\\\n",
    "&       && \\sum_{i=1}^{\\infty}{w_i} \\succeq 0 \\\\\n",
    "\\end{align}"
   ]
  },
  {
   "cell_type": "code",
   "execution_count": 11,
   "metadata": {
    "collapsed": false
   },
   "outputs": [
    {
     "data": {
      "text/plain": [
       "\n",
       " Sense: Min \n",
       "\n",
       " Variables: \n",
       "w[1:10] >= 0\n",
       "\n",
       " Objective Function: \n",
       "  dot(w,10x10 Array{Float64,2}:\n",
       " 10.3866    -0.89143   -1.33051   …   0.198312   4.50745    2.37707 \n",
       " -0.89143    7.09333   -3.45644       2.09936    0.348747  -1.71617 \n",
       " -1.33051   -3.45644   10.2676       -5.09831   -5.36072    1.8266  \n",
       " -0.844028   3.28496    0.410415      2.64611    1.41345    2.39396 \n",
       " -3.33323    1.31546    0.239667      0.212938  -6.14246   -1.16482 \n",
       " -1.50885    2.61073    1.95697   …  -5.33638   -3.99037   -2.14628 \n",
       "  5.32728   -1.83709    2.18061      -5.61788   -0.872873   3.54495 \n",
       "  0.198312   2.09936   -5.09831       9.98955    5.32627    0.232497\n",
       "  4.50745    0.348747  -5.36072       5.32627   15.8035     2.1874  \n",
       "  2.37707   -1.71617    1.8266        0.232497   2.1874     7.2731   * w) \n",
       "\n",
       " Constraints: \n",
       "dot([0.8750696218393272,0.0909824764542102,0.0421296129858959,0.3566575879209919,0.539297484964939,0.5215886520600004,0.6376321186088576,0.2587373064380125,0.6969136663434587,0.4212944263872922],w) ≥ 0.2\n",
       "dot(ones(10),w) == 1\n",
       "\n",
       " Assets: \n",
       " WGd    0.8750696218393272 \n",
       "NUU    0.0909824764542102 \n",
       "XkG    0.0421296129858959 \n",
       "BVj    0.3566575879209919 \n",
       "pRr    0.539297484964939 \n",
       "Jzy    0.5215886520600004 \n",
       "kiR    0.6376321186088576 \n",
       "5ML    0.2587373064380125 \n",
       "4Wu    0.6969136663434587 \n",
       "bTp    0.4212944263872922 \n",
       " \n"
      ]
     },
     "execution_count": 11,
     "metadata": {},
     "output_type": "execute_result"
    }
   ],
   "source": [
    "######################################################\n",
    "################### SIMPLE MVO #######################\n",
    "######################################################\n",
    "\n",
    "# Example 1: Basic\n",
    "target_return = 0.2\n",
    "# refer to model definition for keyword arguments, etc.\n",
    "mvo = SimpleMVO(assets, target_return; short_sale=false)"
   ]
  },
  {
   "cell_type": "code",
   "execution_count": 12,
   "metadata": {
    "collapsed": false
   },
   "outputs": [
    {
     "data": {
      "text/plain": [
       "10-element Array{Float64,1}:\n",
       " 0.0170244  \n",
       " 0.0753511  \n",
       " 0.183185   \n",
       " 1.35262e-10\n",
       " 0.185192   \n",
       " 0.0834505  \n",
       " 0.145646   \n",
       " 0.18291    \n",
       " 0.127241   \n",
       " 2.27348e-9 "
      ]
     },
     "execution_count": 12,
     "metadata": {},
     "output_type": "execute_result"
    }
   ],
   "source": [
    "optimize(mvo)"
   ]
  },
  {
   "cell_type": "markdown",
   "metadata": {},
   "source": [
    "Constraints\n",
    "-----------\n",
    "\n",
    "**constraint1**: $\\sum$ asset group constraints\n"
   ]
  },
  {
   "cell_type": "code",
   "execution_count": 55,
   "metadata": {
    "collapsed": false
   },
   "outputs": [
    {
     "data": {
      "text/plain": [
       "10-element Array{Float64,1}:\n",
       " 1.08235e-10\n",
       " 0.0404122  \n",
       " 4.03129e-10\n",
       " 9.94083e-11\n",
       " 0.00958781 \n",
       " 0.194771   \n",
       " 7.34928e-11\n",
       " 0.105229   \n",
       " 2.20301e-10\n",
       " 0.65       "
      ]
     },
     "execution_count": 55,
     "metadata": {},
     "output_type": "execute_result"
    }
   ],
   "source": [
    "##################################\n",
    "# Example 2: Adding a Constraint #\n",
    "##################################\n",
    "function genTechIndicator()\n",
    "    [0,0,1,1,0,1,0,1,1,0]\n",
    "end\n",
    "\n",
    "# Adding a simple weight constraint\n",
    "constraints = Dict((:constraint1 => :(dot(w,tech) <= tech_thresh)),\n",
    "                   (:constraint2 => :(dot(w,fin) <= Fin_thresh)))\n",
    "parameters = Dict(:tech=>genTechIndicator(), \n",
    "                  :tech_thresh => 0.3,\n",
    "                  :fin=> [1,1,0,0,1,0,1,0,0,0],\n",
    "                  :Fin_thresh => 0.05)\n",
    "# refer to model definition for keyword arguments, etc.\n",
    "mvo = SimpleMVO(assets, target_return, constraints; short_sale=false)\n",
    "w = optimize(mvo, parameters)\n",
    "\n",
    "# add checkers for constraints"
   ]
  },
  {
   "cell_type": "code",
   "execution_count": 17,
   "metadata": {
    "collapsed": false,
    "scrolled": true
   },
   "outputs": [
    {
     "data": {
      "text/plain": [
       "10-element Array{Float64,1}:\n",
       " 4.9691e-11 \n",
       " 0.0499999  \n",
       " 1.53707e-10\n",
       " 1.3058e-10 \n",
       " 6.88396e-8 \n",
       " 0.04       \n",
       " 3.35711e-11\n",
       " 5.70681e-11\n",
       " 8.17501e-11\n",
       " 0.91       "
      ]
     },
     "execution_count": 17,
     "metadata": {},
     "output_type": "execute_result"
    }
   ],
   "source": [
    "####################################################### \n",
    "# Example 3: Changing a Constraint's parameter values #\n",
    "#######################################################\n",
    "\n",
    "# Changing values of an entered constraint\n",
    "parameters[:tech_thresh] = 0.04\n",
    "\n",
    "# refer to model definition for keyword arguments, etc.\n",
    "mvo = SimpleMVO(assets, target_return, constraints; short_sale=false)\n",
    "optimize(mvo, parameters)"
   ]
  },
  {
   "cell_type": "code",
   "execution_count": 19,
   "metadata": {
    "collapsed": false
   },
   "outputs": [
    {
     "data": {
      "text/plain": [
       "10-element Array{Float64,1}:\n",
       " 0.152713   \n",
       " 0.21905    \n",
       " 0.00936567 \n",
       " 1.96236e-11\n",
       " 0.31893    \n",
       " 3.21006e-11\n",
       " 0.0845705  \n",
       " 8.39941e-11\n",
       " 0.0306343  \n",
       " 0.184737   "
      ]
     },
     "execution_count": 19,
     "metadata": {},
     "output_type": "execute_result"
    }
   ],
   "source": [
    "####################################\n",
    "# Example 4: Deleting a Constraint #\n",
    "####################################\n",
    "\n",
    "# Removing a previously defined constraint\n",
    "delete!(constraints, :constraint2)\n",
    "delete!(parameters, :Fin_thresh)\n",
    "# refer to model definition for keyword arguments, etc.\n",
    "mvo = SimpleMVO(assets, target_return, constraints; short_sale=false)\n",
    "optimize(mvo, parameters)"
   ]
  },
  {
   "cell_type": "code",
   "execution_count": 23,
   "metadata": {
    "collapsed": false
   },
   "outputs": [
    {
     "data": {
      "text/plain": [
       "10-element Array{Float64,1}:\n",
       " 0.152713   \n",
       " 0.21905    \n",
       " 0.00936567 \n",
       " 6.82782e-12\n",
       " 0.31893    \n",
       " 1.58286e-11\n",
       " 0.0845705  \n",
       " 1.82652e-10\n",
       " 0.0306343  \n",
       " 0.184737   "
      ]
     },
     "execution_count": 23,
     "metadata": {},
     "output_type": "execute_result"
    }
   ],
   "source": [
    "##########################################\n",
    "# Example 5: Adding multiple Constraints #\n",
    "##########################################\n",
    "\n",
    "# Adding a multiple weight constraints\n",
    "# constraints = Dict(:constraint1 => :(w[1:5] .<= assets_1_5_max), :constraint2 => :(w[6:n] .<= assets_6_n_max))\n",
    "# Adding a simple weight constraint\n",
    "constraints_1 = [symbol(\"x$i\") => :(min_thresh <= w[$i]) for i=1:n]\n",
    "constraints_2 = [symbol(\"y$i\") => :( w[$i] <= max_thresh) for i=1:n]\n",
    "parameters_1 = Dict(:min_thresh => 0, :max_thresh => 0.5, :n => n)\n",
    "\n",
    "# Different constraint sets can be merged to form new ones\n",
    "constraints = merge(constraints,constraints_1,constraints_2)\n",
    "parameters = merge(parameters,parameters_1)\n",
    "# refer to model definition for keyword arguments, etc.\n",
    "mvo = SimpleMVO(assets, target_return, constraints; short_sale=false)\n",
    "optimize(mvo, parameters)"
   ]
  },
  {
   "cell_type": "code",
   "execution_count": 27,
   "metadata": {
    "collapsed": false
   },
   "outputs": [
    {
     "data": {
      "text/plain": [
       "10-element Array{Float64,1}:\n",
       " 0.059491   \n",
       " 2.11897e-8 \n",
       " 0.207639   \n",
       " 4.07243e-12\n",
       " 2.90081e-12\n",
       " 0.275566   \n",
       " 2.24249e-11\n",
       " 0.258529   \n",
       " 0.00451188 \n",
       " 0.194264   "
      ]
     },
     "execution_count": 27,
     "metadata": {},
     "output_type": "execute_result"
    }
   ],
   "source": [
    "\n",
    "#####################################\n",
    "# Example 6: Using Different Assets #\n",
    "#####################################\n",
    "\n",
    "############\n",
    "# Asset #2 #\n",
    "############\n",
    "n = 10 # No. Of Assets\n",
    "returns_new = rand(n)\n",
    "covarariance_new = let\n",
    "    S = randn(n, n)\n",
    "    S'S + eye(n)\n",
    "end\n",
    "names_new = [randstring(3) for i in 1:n]\n",
    "# Assets data structure containing, names, expected returns, covarariance\n",
    "assets_new = AssetsCollection(names_new, returns_new, covarariance_new)\n",
    "\n",
    "\n",
    "# Using the same previously defined constraints we can run the model on a different set of assets effortlessly\n",
    "mvo = SimpleMVO(assets_new, target_return; short_sale=false)\n",
    "optimize(mvo, parameters)"
   ]
  },
  {
   "cell_type": "code",
   "execution_count": 28,
   "metadata": {
    "collapsed": false
   },
   "outputs": [
    {
     "data": {
      "text/plain": [
       "Dict{Symbol,Expr} with 21 entries:\n",
       "  :y6          => :(w[6] <= max_thresh)\n",
       "  :x4          => :(min_thresh <= w[4])\n",
       "  :x10         => :(min_thresh <= w[10])\n",
       "  :y9          => :(w[9] <= max_thresh)\n",
       "  :y10         => :(w[10] <= max_thresh)\n",
       "  :y8          => :(w[8] <= max_thresh)\n",
       "  :y4          => :(w[4] <= max_thresh)\n",
       "  :y7          => :(w[7] <= max_thresh)\n",
       "  :constraint1 => :(dot(w,tech) <= tech_thresh)\n",
       "  :y1          => :(w[1] <= max_thresh)\n",
       "  :x2          => :(min_thresh <= w[2])\n",
       "  :x3          => :(min_thresh <= w[3])\n",
       "  :x9          => :(min_thresh <= w[9])\n",
       "  :y2          => :(w[2] <= max_thresh)\n",
       "  :x1          => :(min_thresh <= w[1])\n",
       "  :x7          => :(min_thresh <= w[7])\n",
       "  :x5          => :(min_thresh <= w[5])\n",
       "  :y3          => :(w[3] <= max_thresh)\n",
       "  :y5          => :(w[5] <= max_thresh)\n",
       "  :x6          => :(min_thresh <= w[6])\n",
       "  :x8          => :(min_thresh <= w[8])"
      ]
     },
     "execution_count": 28,
     "metadata": {},
     "output_type": "execute_result"
    }
   ],
   "source": [
    "# Forgot what constraints and parameters were defined for initial constraints? No Problem!\n",
    "constraints # Prints the constraints"
   ]
  },
  {
   "cell_type": "code",
   "execution_count": 29,
   "metadata": {
    "collapsed": false
   },
   "outputs": [
    {
     "data": {
      "text/plain": [
       "Dict{Symbol,Any} with 6 entries:\n",
       "  :tech        => [0,0,1,1,0,1,0,1,1,0]\n",
       "  :tech_thresh => 0.04\n",
       "  :max_thresh  => 0.5\n",
       "  :fin         => [1,1,0,0,1,0,1,0,0,0]\n",
       "  :n           => 10\n",
       "  :min_thresh  => 0"
      ]
     },
     "execution_count": 29,
     "metadata": {},
     "output_type": "execute_result"
    }
   ],
   "source": [
    "parameters # prints the parameters"
   ]
  },
  {
   "cell_type": "code",
   "execution_count": 30,
   "metadata": {
    "collapsed": false
   },
   "outputs": [
    {
     "data": {
      "text/plain": [
       "10-element Array{Float64,1}:\n",
       " 0.29987    \n",
       " 0.160755   \n",
       " 0.04       \n",
       " 4.19273e-13\n",
       " 1.04397e-12\n",
       " 3.50401e-12\n",
       " 0.246086   \n",
       " 2.27611e-12\n",
       " 7.99382e-13\n",
       " 0.253289   "
      ]
     },
     "execution_count": 30,
     "metadata": {},
     "output_type": "execute_result"
    }
   ],
   "source": [
    "# Using old constraints on new assets\n",
    "mvo = SimpleMVO(assets_new, target_return, constraints; short_sale=false)\n",
    "optimize(mvo, parameters)"
   ]
  },
  {
   "cell_type": "code",
   "execution_count": 32,
   "metadata": {
    "collapsed": false
   },
   "outputs": [
    {
     "data": {
      "text/plain": [
       "10-element Array{Float64,1}:\n",
       " 0.0819074\n",
       " 0.117726 \n",
       " 0.120242 \n",
       " 0.0572045\n",
       " 0.159447 \n",
       " 0.0917164\n",
       " 0.086467 \n",
       " 0.116344 \n",
       " 0.0741187\n",
       " 0.0948265"
      ]
     },
     "execution_count": 32,
     "metadata": {},
     "output_type": "execute_result"
    }
   ],
   "source": [
    "##############################\n",
    "#  Example 7 Using Robust MVO#\n",
    "##############################\n",
    "\n",
    "# refer to model definition for keyword arguments, etc\n",
    "# If no uncertainty matrix is entered the model defaults\n",
    "# to the ellipse whose axes are proportional to the \n",
    "# individual variances of each asset\n",
    "\n",
    "rmvo = RobustMVO(assets, target_return; short_sale=true)\n",
    "optimize(rmvo, parameters)"
   ]
  },
  {
   "cell_type": "code",
   "execution_count": 52,
   "metadata": {
    "collapsed": false
   },
   "outputs": [],
   "source": [
    "#################################################################\n",
    "#  Example 8 Creating Custom Functions (e.g efficient frontier) #\n",
    "#################################################################\n",
    "\n",
    "n = 20\n",
    "risk = Array(Float32,n)\n",
    "index = Array(Float32,n)\n",
    "for i in 1:n\n",
    "   target_ret = i/21\n",
    "   mvo = SimpleMVO(assets, target_ret; short_sale=true)\n",
    "   optimize(mvo, parameters)\n",
    "   risk[i] = mvo.objVal\n",
    "   index[i] = target_ret\n",
    "end"
   ]
  },
  {
   "cell_type": "code",
   "execution_count": 53,
   "metadata": {
    "collapsed": false
   },
   "outputs": [
    {
     "data": {
      "text/plain": [
       "20-element Array{Float32,1}:\n",
       " 0.461836\n",
       " 0.461836\n",
       " 0.461836\n",
       " 0.461836\n",
       " 0.461836\n",
       " 0.461836\n",
       " 0.461836\n",
       " 0.461985\n",
       " 0.483955\n",
       " 0.543207\n",
       " 0.639742\n",
       " 0.773559\n",
       " 0.944659\n",
       " 1.15304 \n",
       " 1.3987  \n",
       " 1.68165 \n",
       " 2.00188 \n",
       " 2.35939 \n",
       " 2.75418 \n",
       " 3.18626 "
      ]
     },
     "execution_count": 53,
     "metadata": {},
     "output_type": "execute_result"
    }
   ],
   "source": [
    "risk"
   ]
  },
  {
   "cell_type": "code",
   "execution_count": 54,
   "metadata": {
    "collapsed": false
   },
   "outputs": [
    {
     "data": {
      "text/plain": [
       "20-element Array{Float32,1}:\n",
       " 0.047619 \n",
       " 0.0952381\n",
       " 0.142857 \n",
       " 0.190476 \n",
       " 0.238095 \n",
       " 0.285714 \n",
       " 0.333333 \n",
       " 0.380952 \n",
       " 0.428571 \n",
       " 0.47619  \n",
       " 0.52381  \n",
       " 0.571429 \n",
       " 0.619048 \n",
       " 0.666667 \n",
       " 0.714286 \n",
       " 0.761905 \n",
       " 0.809524 \n",
       " 0.857143 \n",
       " 0.904762 \n",
       " 0.952381 "
      ]
     },
     "execution_count": 54,
     "metadata": {},
     "output_type": "execute_result"
    }
   ],
   "source": [
    "index"
   ]
  },
  {
   "cell_type": "code",
   "execution_count": null,
   "metadata": {
    "collapsed": true
   },
   "outputs": [],
   "source": []
  }
 ],
 "metadata": {
  "kernelspec": {
   "display_name": "Julia 0.4.1",
   "language": "julia",
   "name": "julia-0.4"
  },
  "language_info": {
   "file_extension": ".jl",
   "mimetype": "application/julia",
   "name": "julia",
   "version": "0.4.1"
  }
 },
 "nbformat": 4,
 "nbformat_minor": 0
}
