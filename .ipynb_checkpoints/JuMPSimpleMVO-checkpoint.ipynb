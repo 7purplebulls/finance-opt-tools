{
 "cells": [
  {
   "cell_type": "code",
   "execution_count": 1,
   "metadata": {
    "collapsed": false
   },
   "outputs": [
    {
     "ename": "LoadError",
     "evalue": "LoadError: ArgumentError: Ipopt not found in path\nwhile loading In[1], in expression starting on line 2",
     "output_type": "error",
     "traceback": [
      "LoadError: ArgumentError: Ipopt not found in path\nwhile loading In[1], in expression starting on line 2",
      "",
      " in require at loading.jl:233"
     ]
    }
   ],
   "source": [
    "using JuMP\n",
    "using Ipopt"
   ]
  },
  {
   "cell_type": "markdown",
   "metadata": {},
   "source": [
    "## Simple MVO\n",
    "\n",
    "\\begin{align}\n",
    "&\\text{minimize} && w^\\top\\Sigma w \\\\\n",
    "&\\text{subject to} && \\mu^\\top w\\geq r_{\\min} \\\\\n",
    "&       && \\mathbf{1}^\\top w = 1 \\\\\n",
    "&       && w \\succeq 0 \\\\\n",
    "&       && \\sum_{i=1}^{\\infty}{w_i} \\succeq 0 \\\\\n",
    "\\end{align}"
   ]
  },
  {
   "cell_type": "code",
   "execution_count": 2,
   "metadata": {
    "collapsed": false
   },
   "outputs": [
    {
     "data": {
      "text/plain": [
       "0.08975286547400149"
      ]
     },
     "execution_count": 2,
     "metadata": {},
     "output_type": "execute_result"
    }
   ],
   "source": [
    "# generate data\n",
    "n = 5\n",
    "Σ = randn(n,n)\n",
    "# Σ = let\n",
    "#     S = randn(n,n)\n",
    "#     S'S + eye(n)\n",
    "# end\n",
    "μ = randn(n)\n",
    "r_min = mean(μ)"
   ]
  },
  {
   "cell_type": "code",
   "execution_count": 3,
   "metadata": {
    "collapsed": false
   },
   "outputs": [],
   "source": [
    "m = Model(solver=IpoptSolver())\n",
    "\n",
    "@defVar(m, w[1:n] ≥ 0)\n",
    "@setObjective(m, Min, dot(w,Σ*w))\n",
    "\n",
    "@addConstraints(m, begin\n",
    "    dot(μ,w) ≥ r_min\n",
    "    dot(ones(n),w) == 1\n",
    "end)"
   ]
  },
  {
   "cell_type": "code",
   "execution_count": 4,
   "metadata": {
    "collapsed": false
   },
   "outputs": [
    {
     "data": {
      "text/latex": [
       "$$ \\begin{alignat*}{1}\\min\\quad & -0.05053104700466323 w_{1}^2 + 2.390934450108892 w_{1}\\timesw_{2} - 0.28554554178343283 w_{2}^2 - 0.23428162603034944 w_{1}\\timesw_{3} - 1.4107282232765646 w_{2}\\timesw_{3} + 0.8599947024830101 w_{3}^2 - 1.311645194187152 w_{1}\\timesw_{4} - 0.9744464979295524 w_{2}\\timesw_{4} + 1.2937865357457476 w_{3}\\timesw_{4} - 0.6227344167782718 w_{4}^2 + 0.10548427747818312 w_{1}\\timesw_{5} + 0.22632214720884647 w_{2}\\timesw_{5} + 0.15962709976158698 w_{3}\\timesw_{5} - 0.4922373107302065 w_{4}\\timesw_{5} - 0.5933820234118684 w_{5}^2\\\\\n",
       "\\text{Subject to} \\quad & 0.26612308720231453 w_{1} + 0.17096470354440468 w_{2} + 0.6342283031038511 w_{3} - 1.1385853774680643 w_{4} + 0.5160336109875014 w_{5} \\geq 0.08975286547400149\\\\\n",
       " & w_{1} + w_{2} + w_{3} + w_{4} + w_{5} = 1\\\\\n",
       " & w_{i} \\geq 0 \\quad\\forall i \\in \\{1,2,\\dots,4,5\\}\\\\\n",
       "\\end{alignat*}\n",
       " $$"
      ],
      "text/plain": [
       "Minimization problem with:\n",
       " * 2 linear constraints\n",
       " * 5 variables\n",
       "Solver set to Ipopt.Ipopt"
      ]
     },
     "execution_count": 4,
     "metadata": {},
     "output_type": "execute_result"
    }
   ],
   "source": [
    "m"
   ]
  },
  {
   "cell_type": "code",
   "execution_count": 6,
   "metadata": {
    "collapsed": false,
    "scrolled": true
   },
   "outputs": [
    {
     "data": {
      "text/plain": [
       "0"
      ]
     },
     "execution_count": 6,
     "metadata": {},
     "output_type": "execute_result"
    }
   ],
   "source": [
    "m.objVal"
   ]
  },
  {
   "cell_type": "code",
   "execution_count": 12,
   "metadata": {
    "collapsed": false
   },
   "outputs": [
    {
     "name": "stderr",
     "output_type": "stream",
     "text": [
      "WARNING: Variable value not defined for component of w. Check that the model was properly solved.\n"
     ]
    },
    {
     "data": {
      "text/plain": [
       "5-element Array{Float64,1}:\n",
       " NaN\n",
       " NaN\n",
       " NaN\n",
       " NaN\n",
       " NaN"
      ]
     },
     "execution_count": 12,
     "metadata": {},
     "output_type": "execute_result"
    }
   ],
   "source": [
    "x = getValue(w)"
   ]
  },
  {
   "cell_type": "code",
   "execution_count": 11,
   "metadata": {
    "collapsed": false
   },
   "outputs": [
    {
     "name": "stdout",
     "output_type": "stream",
     "text": [
      "\n",
      "******************************************************************************\n",
      "This program contains Ipopt, a library for large-scale nonlinear optimization.\n",
      " Ipopt is released as open source code under the Eclipse Public License (EPL).\n",
      "         For more information visit http://projects.coin-or.org/Ipopt\n",
      "******************************************************************************\n",
      "\n",
      "This is Ipopt version 3.12.4, running with linear solver mumps.\n",
      "NOTE: Other linear solvers might be more efficient (see Ipopt documentation).\n",
      "\n",
      "Number of nonzeros in equality constraint Jacobian...:        5\n",
      "Number of nonzeros in inequality constraint Jacobian.:        5\n",
      "Number of nonzeros in Lagrangian Hessian.............:       25\n",
      "\n",
      "Total number of variables............................:        5\n",
      "                     variables with only lower bounds:        5\n",
      "                variables with lower and upper bounds:        0\n",
      "                     variables with only upper bounds:        0\n",
      "Total number of equality constraints.................:        1\n",
      "Total number of inequality constraints...............:        1\n",
      "        inequality constraints with only lower bounds:        1\n",
      "   inequality constraints with lower and upper bounds:        0\n",
      "        inequality constraints with only upper bounds:        0\n",
      "\n",
      "iter    objective    inf_pr   inf_du lg(mu)  ||d||  lg(rg) alpha_du alpha_pr  ls\n",
      "   0  3.5638383e-04 9.50e-01 8.43e-01  -1.0 0.00e+00    -  0.00e+00 0.00e+00   0\n",
      "   1  1.4477633e-01 2.22e-16 1.81e+01  -1.7 4.73e-01    -  5.19e-02 1.00e+00f  1\n",
      "   2  1.4007600e-01 0.00e+00 4.83e-01  -1.7 4.83e-03   2.0 1.00e+00 1.00e+00f  1\n",
      "   3  1.2577789e-01 0.00e+00 4.48e-01  -1.7 1.34e-02   1.5 1.00e+00 1.00e+00f  1\n",
      "   4  6.7243317e-02 2.22e-16 5.77e-01  -1.7 5.20e-02   1.0 1.00e+00 1.00e+00f  1\n",
      "   5  3.7213602e-02 0.00e+00 6.95e-01  -1.7 2.35e-02   1.5 1.00e+00 1.00e+00f  1\n",
      "   6 -2.2423603e-01 0.00e+00 1.47e+00  -1.7 1.49e-01   1.0 1.00e+00 1.00e+00f  1\n",
      "   7 -3.8758707e-01 0.00e+00 1.73e+00  -1.7 6.58e-02   1.4 1.00e+00 1.00e+00f  1\n",
      "   8 -7.7032211e-01 2.22e-16 2.20e+00  -1.7 3.27e-01   0.9 1.00e+00 4.25e-01f  1\n",
      "   9 -1.3632065e+00 0.00e+00 7.31e+00  -1.7 1.26e+00   0.5 8.38e-01 1.52e-01f  1\n",
      "iter    objective    inf_pr   inf_du lg(mu)  ||d||  lg(rg) alpha_du alpha_pr  ls\n",
      "  10 -1.3703096e+00 0.00e+00 2.52e+00  -1.7 1.66e-02    -  1.00e+00 3.41e-01f  2\n",
      "  11 -1.3549140e+00 1.11e-16 2.00e-07  -1.7 5.62e-03    -  1.00e+00 1.00e+00f  1\n",
      "  12 -1.4342534e+00 2.22e-16 4.28e-03  -3.8 1.84e-02    -  9.85e-01 9.64e-01f  1\n",
      "  13 -1.4351525e+00 2.22e-16 1.50e-09  -3.8 1.83e-04    -  1.00e+00 1.00e+00f  1\n",
      "  14 -1.4357476e+00 0.00e+00 1.84e-11  -5.7 1.31e-04    -  1.00e+00 1.00e+00f  1\n",
      "  15 -1.4357548e+00 0.00e+00 2.55e-14  -8.6 1.60e-06    -  1.00e+00 1.00e+00f  1\n",
      "\n",
      "Number of Iterations....: 15\n",
      "\n",
      "                                   (scaled)                 (unscaled)\n",
      "Objective...............:  -1.4357548282652326e+00   -1.4357548282652326e+00\n",
      "Dual infeasibility......:   2.5509802434222750e-14    2.5509802434222750e-14\n",
      "Constraint violation....:   0.0000000000000000e+00    0.0000000000000000e+00\n",
      "Complementarity.........:   2.5094220144700591e-09    2.5094220144700591e-09\n",
      "Overall NLP error.......:   2.5094220144700591e-09    2.5094220144700591e-09\n",
      "\n",
      "\n",
      "Number of objective function evaluations             = 18\n",
      "Number of objective gradient evaluations             = 16\n",
      "Number of equality constraint evaluations            = 18\n",
      "Number of inequality constraint evaluations          = 18\n",
      "Number of equality constraint Jacobian evaluations   = 16\n",
      "Number of inequality constraint Jacobian evaluations = 16\n",
      "Number of Lagrangian Hessian evaluations             = 15\n",
      "Total CPU secs in IPOPT (w/o function evaluations)   =      0.132\n",
      "Total CPU secs in NLP function evaluations           =      0.157\n",
      "\n",
      "EXIT: Optimal Solution Found.\n"
     ]
    },
    {
     "data": {
      "text/plain": [
       ":Optimal"
      ]
     },
     "execution_count": 11,
     "metadata": {},
     "output_type": "execute_result"
    }
   ],
   "source": [
    "status = solve(m)"
   ]
  },
  {
   "cell_type": "code",
   "execution_count": null,
   "metadata": {
    "collapsed": true
   },
   "outputs": [],
   "source": []
  }
 ],
 "metadata": {
  "kernelspec": {
   "display_name": "Julia 0.4.1",
   "language": "julia",
   "name": "julia-0.4"
  },
  "language_info": {
   "file_extension": ".jl",
   "mimetype": "application/julia",
   "name": "julia",
   "version": "0.4.1"
  }
 },
 "nbformat": 4,
 "nbformat_minor": 0
}
