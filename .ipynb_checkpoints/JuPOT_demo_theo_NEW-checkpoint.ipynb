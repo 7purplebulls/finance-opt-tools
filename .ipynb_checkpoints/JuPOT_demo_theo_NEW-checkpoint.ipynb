{
 "cells": [
  {
   "cell_type": "markdown",
   "metadata": {},
   "source": [
    "JuPOT - Tutorial\n",
    "================"
   ]
  },
  {
   "cell_type": "code",
   "execution_count": 90,
   "metadata": {
    "collapsed": false,
    "scrolled": true
   },
   "outputs": [
    {
     "data": {
      "text/plain": [
       "10x2 DataFrames.DataFrame\n",
       "| Row | A     | B         |\n",
       "|-----|-------|-----------|\n",
       "| 1   | \"fqU\" | 0.145521  |\n",
       "| 2   | \"nbG\" | 0.0794849 |\n",
       "| 3   | \"yVw\" | 0.205992  |\n",
       "| 4   | \"nlr\" | 0.117006  |\n",
       "| 5   | \"eZU\" | 0.230518  |\n",
       "| 6   | \"NO1\" | 0.0615766 |\n",
       "| 7   | \"Bnh\" | 0.292437  |\n",
       "| 8   | \"M22\" | 0.235276  |\n",
       "| 9   | \"mUe\" | 0.0722919 |\n",
       "| 10  | \"aZe\" | 0.0120013 |"
      ]
     },
     "execution_count": 90,
     "metadata": {},
     "output_type": "execute_result"
    }
   ],
   "source": [
    "push!(LOAD_PATH, \"$(homedir())/desktop/financial-opt-tools/src\")\n",
    "\n",
    "using JuPOT\n",
    "# Generate synthetic data sets for Demonstration\n",
    "############\n",
    "# Assets\n",
    "############\n",
    "n = 10 # No. Of Assets\n",
    "returns = rand(n)*0.4\n",
    "covariance = let\n",
    "    S = randn(n, n)\n",
    "    S'S + eye(n)\n",
    "end\n",
    "names = [randstring(3) for i in 1:n] # List of asset names\n",
    "\n",
    "# Assets data structure containing, names, expected returns, covarariance\n",
    "assets = AssetsCollection(names, returns, covariance)"
   ]
  },
  {
   "cell_type": "markdown",
   "metadata": {},
   "source": [
    "## Simple MVO\n",
    "\n",
    "\\begin{align}\n",
    "&\\text{minimize} && w^\\top\\Sigma w \\\\\n",
    "&\\text{subject to} && \\mu^\\top w\\geq r_{\\min} \\\\\n",
    "&       && \\mathbf{1}^\\top w = 1 \\\\\n",
    "&       && w \\succeq 0 \\\\\n",
    "\\end{align}"
   ]
  },
  {
   "cell_type": "code",
   "execution_count": 2,
   "metadata": {
    "collapsed": false
   },
   "outputs": [
    {
     "data": {
      "text/plain": [
       "\n",
       " Sense: Min \n",
       "\n",
       " Variables: \n",
       "w[1:10] >= 0\n",
       "\n",
       " Objective Function: \n",
       "  dot(w,10x10 Array{Float64,2}:\n",
       " 23.7016     9.98336   -0.553158  …   0.733098  -0.814721  -0.56417 \n",
       "  9.98336   17.9551     2.96608      -0.121899   0.172077   1.30404 \n",
       " -0.553158   2.96608   10.1192       -3.80496    0.209278   0.126627\n",
       " -0.570444   1.48801   -0.296499      1.93211   -1.10089    1.20087 \n",
       "  2.06455   -0.231737  -2.93694      -1.33384   -0.421206   0.919909\n",
       "  3.19321   -1.29136    4.48853   …  -0.792987   1.35509   -0.088859\n",
       " -2.3449     3.35075    0.865592     -0.983744   2.56856    1.105   \n",
       "  0.733098  -0.121899  -3.80496       5.67463   -0.1951    -0.615585\n",
       " -0.814721   0.172077   0.209278     -0.1951     8.57526   -2.73014 \n",
       " -0.56417    1.30404    0.126627     -0.615585  -2.73014    6.77963  * w) \n",
       "\n",
       " Constraints: \n",
       "0x2 DataFrames.DataFrame\n",
       "\n",
       "\n",
       "2x2 DataFrames.DataFrame\n",
       "| Row | Default   |\n",
       "|-----|-----------|\n",
       "| 1   | \"default\" |\n",
       "| 2   | \"default\" |\n",
       "\n",
       "| Row | Constraint                                                                                                                                                                                                              |\n",
       "|-----|-------------------------------------------------------------------------------------------------------------------------------------------------------------------------------------------------------------------------|\n",
       "| 1   | :(dot([0.5479590591553458,0.8124768275985059,0.38122815802239063,0.8908056131630402,0.21612177093254403,0.021889817591750127,0.18684295493730074,0.7584938923953053,0.23944112136715145,0.7859992194071441],w) ≥ 0.2) |\n",
       "| 2   | :(dot(ones(10),w) == 1)                                                                                                                                                                                                 |\n",
       "\n",
       "\n",
       " Assets: \n",
       " 10x2 DataFrames.DataFrame\n",
       "| Row | A     | B         |\n",
       "|-----|-------|-----------|\n",
       "| 1   | \"xN2\" | 0.547959  |\n",
       "| 2   | \"7NE\" | 0.812477  |\n",
       "| 3   | \"k3A\" | 0.381228  |\n",
       "| 4   | \"ji3\" | 0.890806  |\n",
       "| 5   | \"TRc\" | 0.216122  |\n",
       "| 6   | \"vy1\" | 0.0218898 |\n",
       "| 7   | \"Hqy\" | 0.186843  |\n",
       "| 8   | \"DOO\" | 0.758494  |\n",
       "| 9   | \"Gi9\" | 0.239441  |\n",
       "| 10  | \"lyg\" | 0.785999  | \n"
      ]
     },
     "execution_count": 2,
     "metadata": {},
     "output_type": "execute_result"
    }
   ],
   "source": [
    "######################################################\n",
    "################### SIMPLE MVO #######################\n",
    "######################################################\n",
    "\n",
    "# Example 1: Basic\n",
    "target_return = 0.2\n",
    "# refer to model definition for keyword arguments, etc.\n",
    "mvo = SimpleMVO(assets, target_return; short_sale=false)"
   ]
  },
  {
   "cell_type": "code",
   "execution_count": 3,
   "metadata": {
    "collapsed": false
   },
   "outputs": [
    {
     "data": {
      "text/plain": [
       "10-element Array{Float64,1}:\n",
       " 0.00709497 \n",
       " 5.81211e-14\n",
       " 0.221814   \n",
       " 5.78534e-10\n",
       " 0.235785   \n",
       " 6.99527e-14\n",
       " 0.0849516  \n",
       " 0.310166   \n",
       " 0.066205   \n",
       " 0.0739836  "
      ]
     },
     "execution_count": 3,
     "metadata": {},
     "output_type": "execute_result"
    }
   ],
   "source": [
    "optimize(mvo)"
   ]
  },
  {
   "cell_type": "markdown",
   "metadata": {},
   "source": [
    "Constraints\n",
    "-----------\n",
    "\n",
    "\\begin{align}\n",
    "&\\text{minimize} && w^\\top\\Sigma w \\\\\n",
    "&\\text{subject to} && \\mu^\\top w\\geq r_{\\min} \\\\\n",
    "&       && \\mathbf{1}^\\top w = 1 \\\\\n",
    "&       && w \\succeq 0 \\\\\n",
    "&       && I_{tech}^\\top w \\leq 0.3 \\\\\n",
    "&       && I_{fin}^\\top w \\leq 0.5 \\\\\n",
    "\\end{align}\n"
   ]
  },
  {
   "cell_type": "code",
   "execution_count": 63,
   "metadata": {
    "collapsed": false
   },
   "outputs": [
    {
     "data": {
      "text/plain": [
       "10-element Array{Float64,1}:\n",
       " 0.0499577  \n",
       " 4.4887e-12 \n",
       " 0.114043   \n",
       " 0.000115883\n",
       " 0.256528   \n",
       " 5.46294e-12\n",
       " 0.193514   \n",
       " 0.171354   \n",
       " 0.0144872  \n",
       " 0.2        "
      ]
     },
     "execution_count": 63,
     "metadata": {},
     "output_type": "execute_result"
    }
   ],
   "source": [
    "##################################\n",
    "# Example 2: Adding a Constraint #\n",
    "##################################\n",
    "function genTechIndicator()\n",
    "    [0,0,1,1,0,1,0,1,1,0]\n",
    "end\n",
    "\n",
    "# Adding a simple weight constraint\n",
    "constraints = Dict((:techClassWeightConstraint => :(dot(w,tech) <= tech_thresh)),\n",
    "                    (:finClassWeightConstraint => :(dot(w,fin) <= fin_thresh)))\n",
    "\n",
    "parameters = Dict(:tech=>genTechIndicator(), \n",
    "                  :tech_thresh => 0.3,\n",
    "                  :fin=> [1,1,0,0,1,0,1,0,0,0],\n",
    "                  :fin_thresh => 0.5)\n",
    "# refer to model definition for keyword arguments, etc.\n",
    "mvo = SimpleMVO(assets, target_return, constraints; short_sale=false)\n",
    "w = optimize(mvo, parameters)\n"
   ]
  },
  {
   "cell_type": "code",
   "execution_count": 64,
   "metadata": {
    "collapsed": false,
    "scrolled": true
   },
   "outputs": [
    {
     "name": "stdout",
     "output_type": "stream",
     "text": [
      "Tech Class Constraint: \n",
      "0.29999999999897375, true\n",
      "Fin Class Constraint: \n",
      "0.49999999999262246, true"
     ]
    }
   ],
   "source": [
    "# Constraint Checks\n",
    "print(\"Tech Class Constraint: \\n\")\n",
    "techClassWeight = dot(w, parameters[:tech])\n",
    "print(techClassWeight, \", \", techClassWeight <= parameters[:tech_thresh])\n",
    "\n",
    "print(\"\\n\")\n",
    "\n",
    "print(\"Fin Class Constraint: \\n\")\n",
    "finClassWeight = dot(w, parameters[:fin])\n",
    "print(finClassWeight, \", \", finClassWeight <= parameters[:fin_thresh])"
   ]
  },
  {
   "cell_type": "markdown",
   "metadata": {},
   "source": [
    "Updated Constraint\n",
    "------------------\n",
    "\n",
    "\\begin{align}\n",
    "&\\text{minimize} && w^\\top\\Sigma w \\\\\n",
    "&\\text{subject to} && \\mu^\\top w\\geq r_{\\min} \\\\\n",
    "&       && \\mathbf{1}^\\top w = 1 \\\\\n",
    "&       && w \\succeq 0 \\\\\n",
    "&       && I_{tech}^\\top w \\leq 0.04 \\\\\n",
    "&       && I_{fin}^\\top w \\leq 0.5 \\\\\n",
    "\\end{align}\n"
   ]
  },
  {
   "cell_type": "code",
   "execution_count": 65,
   "metadata": {
    "collapsed": false,
    "scrolled": true
   },
   "outputs": [
    {
     "data": {
      "text/plain": [
       "10-element Array{Float64,1}:\n",
       " 0.0854787  \n",
       " 5.03612e-11\n",
       " 1.24508e-10\n",
       " 4.85935e-11\n",
       " 0.204448   \n",
       " 1.53004e-11\n",
       " 0.210073   \n",
       " 0.0122023  \n",
       " 0.0277977  \n",
       " 0.46       "
      ]
     },
     "execution_count": 65,
     "metadata": {},
     "output_type": "execute_result"
    }
   ],
   "source": [
    "####################################################### \n",
    "# Example 3: Changing a Constraint's parameter values #\n",
    "#######################################################\n",
    "\n",
    "# Changing values of an entered constraint\n",
    "parameters[:tech_thresh] = 0.04\n",
    "\n",
    "# refer to model definition for keyword arguments, etc.\n",
    "w = optimize(mvo, parameters)"
   ]
  },
  {
   "cell_type": "code",
   "execution_count": 66,
   "metadata": {
    "collapsed": false
   },
   "outputs": [
    {
     "name": "stdout",
     "output_type": "stream",
     "text": [
      "Tech Class Constraint: \n",
      "0.03999999999938704, true\n",
      "Fin Class Constraint: \n",
      "0.4999999999983238, true"
     ]
    }
   ],
   "source": [
    "# Constraint Checks\n",
    "print(\"Tech Class Constraint: \\n\")\n",
    "techClassWeight = dot(w, parameters[:tech])\n",
    "print(techClassWeight, \", \", techClassWeight <= parameters[:tech_thresh])\n",
    "\n",
    "print(\"\\n\")\n",
    "\n",
    "print(\"Fin Class Constraint: \\n\")\n",
    "finClassWeight = dot(w, parameters[:fin])\n",
    "print(finClassWeight, \", \", finClassWeight <= parameters[:fin_thresh])"
   ]
  },
  {
   "cell_type": "markdown",
   "metadata": {},
   "source": [
    "Constraints\n",
    "-----------\n",
    "New Model\n",
    "\n",
    "\\begin{align}\n",
    "&\\text{minimize} && w^\\top\\Sigma w \\\\\n",
    "&\\text{subject to} && \\mu^\\top w\\geq r_{\\min} \\\\\n",
    "&       && \\mathbf{1}^\\top w = 1 \\\\\n",
    "&       && w \\succeq 0 \\\\\n",
    "&       && I_{fin}^\\top w \\leq 0.5 \\\\\n",
    "\\end{align}"
   ]
  },
  {
   "cell_type": "code",
   "execution_count": 67,
   "metadata": {
    "collapsed": false
   },
   "outputs": [
    {
     "data": {
      "text/plain": [
       "10-element Array{Float64,1}:\n",
       " 0.00709497 \n",
       " 8.75224e-14\n",
       " 0.221814   \n",
       " 1.10185e-9 \n",
       " 0.235785   \n",
       " 1.04763e-13\n",
       " 0.0849516  \n",
       " 0.310166   \n",
       " 0.066205   \n",
       " 0.0739836  "
      ]
     },
     "execution_count": 67,
     "metadata": {},
     "output_type": "execute_result"
    }
   ],
   "source": [
    "####################################\n",
    "# Example 4: Deleting a Constraint #\n",
    "####################################\n",
    "\n",
    "# Removing a previously defined constraint\n",
    "delete!(constraints, :techClassWeightConstraint)\n",
    "\n",
    "# refer to model definition for keyword arguments, etc.\n",
    "mvo = SimpleMVO(assets, target_return, constraints; short_sale=false)\n",
    "w = optimize(mvo, parameters)"
   ]
  },
  {
   "cell_type": "code",
   "execution_count": 68,
   "metadata": {
    "collapsed": false
   },
   "outputs": [
    {
     "data": {
      "text/plain": [
       "Dict{Symbol,Expr} with 1 entry:\n",
       "  :finClassWeightConstrai… => :(dot(w,fin) <= fin_thresh)"
      ]
     },
     "execution_count": 68,
     "metadata": {},
     "output_type": "execute_result"
    }
   ],
   "source": [
    "#Display Current Constraint Container\n",
    "constraints"
   ]
  },
  {
   "cell_type": "code",
   "execution_count": 69,
   "metadata": {
    "collapsed": false
   },
   "outputs": [
    {
     "name": "stdout",
     "output_type": "stream",
     "text": [
      "Tech Class Constraint: \n",
      "0.5981848381137542, false\n",
      "Fin Class Constraint: \n",
      "0.3278316105611047, true"
     ]
    }
   ],
   "source": [
    "# Constraint Checks\n",
    "print(\"Tech Class Constraint: \\n\")\n",
    "techClassWeight = dot(w, parameters[:tech])\n",
    "print(techClassWeight, \", \", techClassWeight <= parameters[:tech_thresh])\n",
    "\n",
    "print(\"\\n\")\n",
    "\n",
    "print(\"Fin Class Constraint: \\n\")\n",
    "finClassWeight = dot(w, parameters[:fin])\n",
    "print(finClassWeight, \", \", finClassWeight <= parameters[:fin_thresh])"
   ]
  },
  {
   "cell_type": "markdown",
   "metadata": {},
   "source": [
    "\n",
    "\\begin{align}\n",
    "&\\text{minimize} && w^\\top\\Sigma w \\\\\n",
    "&\\text{subject to} && \\mu^\\top w\\geq r_{\\min} \\\\\n",
    "&       && \\mathbf{1}^\\top w = 1 \\\\\n",
    "&       && w \\succeq 0 \\\\\n",
    "&       && I_{fin}^\\top w \\leq 0.5 \\\\\n",
    "&       && {w_i} \\leq 0.5 &&  \\forall i \\in \\{1, 2, 3\\} \\\\\n",
    "&       && {w_i} \\leq 0.01 \\text{ }  && \\forall i \\in \\{4, 5, 6\\}\\\\\n",
    "\\end{align}"
   ]
  },
  {
   "cell_type": "code",
   "execution_count": 71,
   "metadata": {
    "collapsed": false
   },
   "outputs": [
    {
     "data": {
      "text/plain": [
       "10-element Array{Float64,1}:\n",
       " 0.046634   \n",
       " 3.84734e-11\n",
       " 0.191747   \n",
       " 0.01       \n",
       " 0.01       \n",
       " 0.00735835 \n",
       " 0.0797681  \n",
       " 0.312535   \n",
       " 0.145346   \n",
       " 0.196611   "
      ]
     },
     "execution_count": 71,
     "metadata": {},
     "output_type": "execute_result"
    }
   ],
   "source": [
    "##########################################\n",
    "# Example 5: Adding multiple Constraints #\n",
    "##########################################\n",
    "\n",
    "# Adding a multiple weight constraints\n",
    "# Adding a simple weight constraint\n",
    "assetClassThresholds = [0.5, 0.5, 0.5, 0.01, 0.01, 0.01]\n",
    "assetsWeightConstraints = [symbol(\"assetWeightConstraint$i\") => :(w[$i] <= $(assetClassThresholds[i])) for i=1:6]\n",
    "\n",
    "\n",
    "# Different constraint sets can be merged to form new ones\n",
    "new_constraints = merge(constraints, assetsWeightConstraints)\n",
    "\n",
    "# refer to model definition for keyword arguments, etc.\n",
    "mvo = SimpleMVO(assets, target_return, new_constraints; short_sale=false)\n",
    "w = optimize(mvo, parameters)"
   ]
  },
  {
   "cell_type": "code",
   "execution_count": 73,
   "metadata": {
    "collapsed": false
   },
   "outputs": [
    {
     "name": "stdout",
     "output_type": "stream",
     "text": [
      "Fin Class Constraint: \n",
      "0.13640211660280685, true\n",
      "Weights 1 - 3 Constraint: \n",
      "0.046634024632747455, true\n",
      "3.847338889024689e-11, true\n",
      "0.19174749057889884, true\n",
      "Weights 4 - 6 Constraint: \n",
      "0.009999999980661997, true\n",
      "0.009999999994074223, true\n",
      "0.007358350255935825, true\n"
     ]
    }
   ],
   "source": [
    "print(\"Fin Class Constraint: \\n\")\n",
    "finClassWeight = dot(w, parameters[:fin])\n",
    "print(finClassWeight, \", \", finClassWeight <= parameters[:fin_thresh])\n",
    "\n",
    "print(\"\\n\")\n",
    "\n",
    "print(\"Weights 1 - 3 Constraint: \\n\")\n",
    "for i=1:3\n",
    "    print(w[i], \", \", w[i] <= 0.5)\n",
    "    print(\"\\n\")\n",
    "end\n",
    "\n",
    "print(\"Weights 4 - 6 Constraint: \\n\")\n",
    "for i=4:6\n",
    "    print(w[i], \", \", w[i] <= 0.01)\n",
    "    print(\"\\n\")\n",
    "end"
   ]
  },
  {
   "cell_type": "code",
   "execution_count": 74,
   "metadata": {
    "collapsed": false
   },
   "outputs": [
    {
     "data": {
      "text/plain": [
       "10-element Array{Float64,1}:\n",
       " 1.35231e-11\n",
       " 0.294902   \n",
       " 1.10843e-11\n",
       " 1.90023e-8 \n",
       " 0.185996   \n",
       " 2.80191e-11\n",
       " 0.294275   \n",
       " 7.3748e-10 \n",
       " 0.0180918  \n",
       " 0.206734   "
      ]
     },
     "execution_count": 74,
     "metadata": {},
     "output_type": "execute_result"
    }
   ],
   "source": [
    "\n",
    "#####################################\n",
    "# Example 6: Using Different Assets #\n",
    "#####################################\n",
    "\n",
    "############\n",
    "# Asset #2 #\n",
    "############\n",
    "n = 10 # No. Of Assets\n",
    "returns_new = rand(n)\n",
    "covariance_new = let\n",
    "    S = randn(n, n)\n",
    "    S'S + eye(n)\n",
    "end\n",
    "names_new = [randstring(3) for i in 1:n]\n",
    "# Assets data structure containing, names, expected returns, covarariance\n",
    "assets_new = AssetsCollection(names_new, returns_new, covariance_new)\n",
    "\n",
    "\n",
    "# Using the same previously defined constraints we can run the model on a different set of assets effortlessly\n",
    "mvo = SimpleMVO(assets_new, target_return; short_sale=false)\n",
    "optimize(mvo, parameters)"
   ]
  },
  {
   "cell_type": "code",
   "execution_count": 75,
   "metadata": {
    "collapsed": false
   },
   "outputs": [
    {
     "data": {
      "text/plain": [
       "Dict{Symbol,Expr} with 1 entry:\n",
       "  :finClassWeightConstrai… => :(dot(w,fin) <= fin_thresh)"
      ]
     },
     "execution_count": 75,
     "metadata": {},
     "output_type": "execute_result"
    }
   ],
   "source": [
    "# Forgot what constraints and parameters were defined for initial constraints? No Problem!\n",
    "constraints # Prints the constraints"
   ]
  },
  {
   "cell_type": "code",
   "execution_count": 76,
   "metadata": {
    "collapsed": false
   },
   "outputs": [
    {
     "data": {
      "text/plain": [
       "Dict{Symbol,Any} with 4 entries:\n",
       "  :tech        => [0,0,1,1,0,1,0,1,1,0]\n",
       "  :tech_thresh => 0.04\n",
       "  :fin_thresh  => 0.5\n",
       "  :fin         => [1,1,0,0,1,0,1,0,0,0]"
      ]
     },
     "execution_count": 76,
     "metadata": {},
     "output_type": "execute_result"
    }
   ],
   "source": [
    "parameters # prints the parameters"
   ]
  },
  {
   "cell_type": "code",
   "execution_count": 78,
   "metadata": {
    "collapsed": false
   },
   "outputs": [
    {
     "data": {
      "text/plain": [
       "Dict{Symbol,Any} with 2 entries:\n",
       "  :fin_thresh => 0.5\n",
       "  :fin        => [1,1,0,0,1,0,1,0,0,0]"
      ]
     },
     "execution_count": 78,
     "metadata": {},
     "output_type": "execute_result"
    }
   ],
   "source": [
    "# It's good practice to remove unnecessary parameters\n",
    "delete!(parameters, :tech)\n",
    "delete!(parameters, :tech_thresh)\n",
    "\n",
    "parameters"
   ]
  },
  {
   "cell_type": "markdown",
   "metadata": {},
   "source": [
    "## Robust MVO\n",
    "\n",
    "\\begin{align}\n",
    "&\\text{minimize} && w^\\top\\Sigma w \\\\\n",
    "&\\text{subject to} && \\big\\lVert \\Theta^{\\frac{1}{2}}w \\big\\rVert \\leq \\epsilon \\\\\n",
    "&       && \\mu^\\top w\\geq r_{\\min} \\\\\n",
    "&       && \\mathbf{1}^\\top w = 1 \\\\\n",
    "&       && w \\succeq 0 \\\\\n",
    "\\end{align}"
   ]
  },
  {
   "cell_type": "code",
   "execution_count": null,
   "metadata": {
    "collapsed": false
   },
   "outputs": [],
   "source": [
    "##############################\n",
    "#  Example 7 Using Robust MVO#\n",
    "##############################\n",
    "\n",
    "# refer to model definition for keyword arguments, etc\n",
    "# If no uncertainty matrix is entered the model defaults\n",
    "# to the ellipse whose axes are proportional to the \n",
    "# individual variances of each asset\n",
    "\n",
    "rmvo = RobustMVO(assets, target_return; short_sale=true)\n",
    "optimize(rmvo, parameters)"
   ]
  },
  {
   "cell_type": "code",
   "execution_count": 92,
   "metadata": {
    "collapsed": false
   },
   "outputs": [],
   "source": [
    "#################################################################\n",
    "#  Example 8 Creating Custom Functions (e.g efficient frontier) #\n",
    "#################################################################\n",
    "n = 20\n",
    "variance = Array(Float32,n)\n",
    "returns = Array(Float32,n)\n",
    "target_returns = linspace(0,0.4,20)\n",
    "for i in 1:n\n",
    "    target_ret = target_returns[i]\n",
    "    mvo = SimpleMVO(assets, target_ret; short_sale=true)\n",
    "    w = optimize(mvo, parameters)\n",
    "    variance[i] = mvo.objVal\n",
    "    returns[i] = dot(w, JuPOT.getReturns(assets))\n",
    "end"
   ]
  },
  {
   "cell_type": "code",
   "execution_count": 93,
   "metadata": {
    "collapsed": false
   },
   "outputs": [
    {
     "data": {
      "text/plain": [
       "20-element Array{Float32,1}:\n",
       " 0.806573\n",
       " 0.806573\n",
       " 0.806573\n",
       " 0.806573\n",
       " 0.806573\n",
       " 0.806573\n",
       " 0.806573\n",
       " 0.806573\n",
       " 0.806573\n",
       " 0.808813\n",
       " 0.833964\n",
       " 0.887046\n",
       " 0.968058\n",
       " 1.077   \n",
       " 1.21387 \n",
       " 1.37868 \n",
       " 1.57141 \n",
       " 1.79208 \n",
       " 2.04067 \n",
       " 2.3172  "
      ]
     },
     "execution_count": 93,
     "metadata": {},
     "output_type": "execute_result"
    }
   ],
   "source": [
    "variance"
   ]
  },
  {
   "cell_type": "code",
   "execution_count": 94,
   "metadata": {
    "collapsed": false
   },
   "outputs": [
    {
     "data": {
      "text/plain": [
       "20-element Array{Float32,1}:\n",
       " 0.181042\n",
       " 0.181042\n",
       " 0.181042\n",
       " 0.181042\n",
       " 0.181042\n",
       " 0.181042\n",
       " 0.181042\n",
       " 0.181042\n",
       " 0.181042\n",
       " 0.189474\n",
       " 0.210526\n",
       " 0.231579\n",
       " 0.252632\n",
       " 0.273684\n",
       " 0.294737\n",
       " 0.315789\n",
       " 0.336842\n",
       " 0.357895\n",
       " 0.378947\n",
       " 0.4     "
      ]
     },
     "execution_count": 94,
     "metadata": {},
     "output_type": "execute_result"
    }
   ],
   "source": [
    "returns"
   ]
  },
  {
   "cell_type": "code",
   "execution_count": 83,
   "metadata": {
    "collapsed": false
   },
   "outputs": [
    {
     "data": {
      "text/plain": [
       "0.4841258434570479"
      ]
     },
     "execution_count": 83,
     "metadata": {},
     "output_type": "execute_result"
    }
   ],
   "source": [
    "mean(JuPOT.getReturns(assets))"
   ]
  },
  {
   "cell_type": "code",
   "execution_count": 89,
   "metadata": {
    "collapsed": false
   },
   "outputs": [
    {
     "data": {
      "text/plain": [
       "0.15125274010964593"
      ]
     },
     "execution_count": 89,
     "metadata": {},
     "output_type": "execute_result"
    }
   ],
   "source": [
    "mean(rand(10)*0.4)"
   ]
  },
  {
   "cell_type": "code",
   "execution_count": null,
   "metadata": {
    "collapsed": true
   },
   "outputs": [],
   "source": []
  }
 ],
 "metadata": {
  "kernelspec": {
   "display_name": "Julia 0.4.1",
   "language": "julia",
   "name": "julia-0.4"
  },
  "language_info": {
   "file_extension": ".jl",
   "mimetype": "application/julia",
   "name": "julia",
   "version": "0.4.1"
  }
 },
 "nbformat": 4,
 "nbformat_minor": 0
}
