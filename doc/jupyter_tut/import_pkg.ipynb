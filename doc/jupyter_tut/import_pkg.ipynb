{
 "cells": [
  {
   "cell_type": "markdown",
   "metadata": {},
   "source": [
    "Getting Started\n",
    "==================\n",
    "\n",
    "This guide will guide you through installation of both Julia and Jolt. The basic features of Jolt will also be outline and examples will be provided. \n",
    "\n",
    "Installing Julia\n",
    "-----------------\n",
    "Installation of Julia is necessary in order to import and run Jolt. During time of documentation the laster release of Julia is **v0.4.3**. Detailed downloading instruction can be found on [Julia's official website](http://julialang.org/ \"Julia\").\n",
    "\n",
    "Installing Jolt\n",
    "----------------\n",
    "Once Julia is installed, the Jolt package can be downloaded with the following code:"
   ]
  },
  {
   "cell_type": "raw",
   "metadata": {},
   "source": [
    "julia> Pkg.add(\"Jolt\")"
   ]
  },
  {
   "cell_type": "markdown",
   "metadata": {},
   "source": [
    "Jolt can be then initialized with the following command:"
   ]
  },
  {
   "cell_type": "raw",
   "metadata": {},
   "source": [
    "julia> using Jolt"
   ]
  },
  {
   "cell_type": "markdown",
   "metadata": {},
   "source": [
    "Data Import\n",
    "-----------\n",
    "After Jolt is installed and initialized, users can import their data from their desired sources. For a simple MVO, the inputs needed are the **covariance matrix** and the **expected return** of all assets. The total portfolio return must also be defined by the user. "
   ]
  },
  {
   "cell_type": "markdown",
   "metadata": {},
   "source": [
    "Model Creation\n",
    "---------------\n",
    "\n",
    "At this point, all packages and software should already be installed on the system and data pertaining to the model is imported. We will now go through set up as well as initialization of the model. \n"
   ]
  }
 ],
 "metadata": {
  "kernelspec": {
   "display_name": "Python 2",
   "language": "python",
   "name": "python2"
  },
  "language_info": {
   "codemirror_mode": {
    "name": "ipython",
    "version": 2
   },
   "file_extension": ".py",
   "mimetype": "text/x-python",
   "name": "python",
   "nbconvert_exporter": "python",
   "pygments_lexer": "ipython2",
   "version": "2.7.10"
  }
 },
 "nbformat": 4,
 "nbformat_minor": 0
}
