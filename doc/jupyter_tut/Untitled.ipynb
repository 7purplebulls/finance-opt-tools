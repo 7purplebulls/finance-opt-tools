{
 "cells": [
  {
   "cell_type": "markdown",
   "metadata": {},
   "source": [
    "Tomography is the process of reconstructing a density distribution from given\n",
    "integrals over sections of the distribution. In our example, we will\n",
    "work with tomography on black and white images.\n",
    "Suppose $x$ be the vector of $n$ pixel densities, with $x_j$\n",
    "denoting how white pixel $j$ is.\n",
    "Let $y$ be the vector of $m$ line integrals over the image, with $y_i$\n",
    "denoting the integral for line $i$.\n",
    "We can define a matrix $A$ to describe the geometry of the lines. Entry\n",
    "$A_{ij}$ describes how much of pixel $j$ is intersected by line $i$.\n",
    "Assuming our measurements of the line integrals are perfect, we have the relationship that\n",
    "\n",
    "$$y = Ax$$\n",
    "\n",
    "However, anytime we have measurements, there are usually small errors that occur.\n",
    "Therefore it makes sense to try to minimize\n",
    "\n",
    "$$\\|y - Ax\\|_2^2.$$\n",
    "\n",
    "This is simply an unconstrained least squares problem; something we can readily solve!"
   ]
  },
  {
   "cell_type": "code",
   "execution_count": null,
   "metadata": {
    "collapsed": true
   },
   "outputs": [],
   "source": []
  }
 ],
 "metadata": {
  "kernelspec": {
   "display_name": "Python 2",
   "language": "python",
   "name": "python2"
  },
  "language_info": {
   "codemirror_mode": {
    "name": "ipython",
    "version": 2
   },
   "file_extension": ".py",
   "mimetype": "text/x-python",
   "name": "python",
   "nbconvert_exporter": "python",
   "pygments_lexer": "ipython2",
   "version": "2.7.10"
  }
 },
 "nbformat": 4,
 "nbformat_minor": 0
}
